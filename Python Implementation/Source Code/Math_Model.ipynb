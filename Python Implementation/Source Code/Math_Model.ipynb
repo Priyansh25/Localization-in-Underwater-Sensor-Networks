{
 "cells": [
  {
   "cell_type": "code",
   "execution_count": 13,
   "id": "maritime-hamilton",
   "metadata": {},
   "outputs": [],
   "source": [
    "import numpy as np\n",
    "import matplotlib.pyplot as plt\n",
    "import math\n",
    "\n",
    "earthRadiusInMeters = 6371000\n",
    "earthR = 6371"
   ]
  },
  {
   "cell_type": "code",
   "execution_count": 14,
   "id": "still-paris",
   "metadata": {},
   "outputs": [],
   "source": [
    "# Coordinates of  A:\n",
    "LatA = 48.8674546593467\n",
    "LonA = 2.355035664087364"
   ]
  },
  {
   "cell_type": "code",
   "execution_count": 15,
   "id": "injured-gathering",
   "metadata": {},
   "outputs": [],
   "source": [
    "# Coordinates of  B: \n",
    "LatB = 48.86649526947721\n",
    "LonB = 2.355244287413478"
   ]
  },
  {
   "cell_type": "code",
   "execution_count": 16,
   "id": "separated-parks",
   "metadata": {},
   "outputs": [],
   "source": [
    "# Coordinates of  C\n",
    "LatC = 48.8670763004335\n",
    "LonC = 2.356347186129253"
   ]
  },
  {
   "cell_type": "code",
   "execution_count": 17,
   "id": "cheap-supervision",
   "metadata": {},
   "outputs": [],
   "source": [
    "# Theoretical coordinates of the Blind Node\n",
    "LatD_th = 48.86691223210363\n",
    "LonD_th = 2.355337952126204"
   ]
  },
  {
   "cell_type": "code",
   "execution_count": 18,
   "id": "daily-hobby",
   "metadata": {},
   "outputs": [],
   "source": [
    "# Distances measured Blind node to anchor nodes [km]\n",
    "DistA = 64.2402 / 1000\n",
    "DistB = 46.8676 / 1000\n",
    "DistC = 76.0414 / 1000"
   ]
  },
  {
   "cell_type": "code",
   "execution_count": 19,
   "id": "comparable-rescue",
   "metadata": {},
   "outputs": [
    {
     "data": {
      "text/plain": [
       "0.0642402"
      ]
     },
     "execution_count": 19,
     "metadata": {},
     "output_type": "execute_result"
    }
   ],
   "source": [
    "DistA"
   ]
  },
  {
   "cell_type": "code",
   "execution_count": 20,
   "id": "democratic-custom",
   "metadata": {},
   "outputs": [
    {
     "data": {
      "text/plain": [
       "0.0468676"
      ]
     },
     "execution_count": 20,
     "metadata": {},
     "output_type": "execute_result"
    }
   ],
   "source": [
    "DistB"
   ]
  },
  {
   "cell_type": "code",
   "execution_count": 21,
   "id": "neural-christopher",
   "metadata": {},
   "outputs": [
    {
     "data": {
      "text/plain": [
       "0.0760414"
      ]
     },
     "execution_count": 21,
     "metadata": {},
     "output_type": "execute_result"
    }
   ],
   "source": [
    "DistC"
   ]
  },
  {
   "cell_type": "code",
   "execution_count": 24,
   "id": "russian-pride",
   "metadata": {},
   "outputs": [],
   "source": [
    "def intersectCircles(LatA, LonA, DistA, LatB, LonB, DistB, LatC, LonC, DistC):\n",
    "        \"\"\"\n",
    "           Function borrowed from https://gis.stackexchange.com/questions/66/trilateration-using-3-latitude-longitude-points-and-3-distances\n",
    "           intersectCircles: returns the coordinates of a point over the distance to 3 reference points\n",
    "           Provide the coordinates [decimal degrees] of the reference points,\n",
    "           and distances [km] to reference points,\n",
    "           to obtain the coordinates on the terrestrial globe modeled by an authalic sphere.\n",
    "          \n",
    "           Example:\n",
    "           long format\n",
    "           [lat, lon] = intersectCircles (37.418436, -121.963477, 0.265710701754, 37.417243, -121.961889, 0.234592423446, 37.418692, -121.960194, 0.0548954278262)\n",
    "           lat =\n",
    "           37.419102373825389\n",
    "           lon =\n",
    "           -1.219605792083924e + 02\n",
    "        \"\"\"\n",
    "        # assuming elevation = 0\n",
    "        earthR = 6371\n",
    "        \n",
    "        # Convert geodetic Lat/Long to ECEF xyz\n",
    "        #   1. Convert Lat/Long to radians\n",
    "        #   2. Convert Lat/Long(radians) to ECEF\n",
    "        xA = earthR *(math.cos(math.radians(LatA)) * math.cos(math.radians(LonA)))\n",
    "        yA = earthR *(math.cos(math.radians(LatA)) * math.sin(math.radians(LonA)))\n",
    "        zA = earthR *(math.sin(math.radians(LatA)))\n",
    "\n",
    "        xB = earthR *(math.cos(math.radians(LatB)) * math.cos(math.radians(LonB)))\n",
    "        yB = earthR *(math.cos(math.radians(LatB)) * math.sin(math.radians(LonB)))\n",
    "        zB = earthR *(math.sin(math.radians(LatB)))\n",
    "\n",
    "        xC = earthR *(math.cos(math.radians(LatC)) * math.cos(math.radians(LonC)))\n",
    "        yC = earthR *(math.cos(math.radians(LatC)) * math.sin(math.radians(LonC)))\n",
    "        zC = earthR *(math.sin(math.radians(LatC)))\n",
    "\n",
    "        P1 = np.array([xA, yA, zA])\n",
    "        P2 = np.array([xB, yB, zB])\n",
    "        P3 = np.array([xC, yC, zC])\n",
    "\n",
    "        #from wikipedia\n",
    "        #transform to get circle 1 at origin\n",
    "        #transform to get circle 2 on x axis\n",
    "        ex = (P2 - P1)/(np.linalg.norm(P2 - P1))\n",
    "        i = np.dot(ex, P3 - P1)\n",
    "        ey = (P3 - P1 - i*ex)/(np.linalg.norm(P3 - P1 - i*ex))\n",
    "        ez = np.cross(ex,ey)\n",
    "        d = np.linalg.norm(P2 - P1)\n",
    "        j = np.dot(ey, P3 - P1)\n",
    "\n",
    "        #from wikipedia\n",
    "        #plug and chug using above values\n",
    "        x = (pow(DistA,2) - pow(DistB,2) + pow(d,2))/(2*d)\n",
    "        y = ((pow(DistA,2) - pow(DistC,2) + pow(i,2) + pow(j,2))/(2*j)) - ((i/j)*x)\n",
    "\n",
    "        # only one case shown here\n",
    "        z = np.sqrt(pow(DistA,2) - pow(x,2) - pow(y,2))\n",
    "\n",
    "        #triPt is an array with ECEF x,y,z of trilateration point\n",
    "        triPt = P1 + x*ex + y*ey + z*ez\n",
    "\n",
    "        #convert back to lat/long from ECEF\n",
    "        #convert to degrees\n",
    "        lat = math.degrees(math.asin(triPt[2] / earthR))\n",
    "        lon = math.degrees(math.atan2(triPt[1],triPt[0]))\n",
    "\n",
    "        # print(lat, lon)\n",
    "        \n",
    "        return lat, lon"
   ]
  },
  {
   "cell_type": "code",
   "execution_count": 25,
   "id": "cultural-numbers",
   "metadata": {},
   "outputs": [
    {
     "name": "stdout",
     "output_type": "stream",
     "text": [
      "37.41910237382539 -121.96057920839233\n"
     ]
    }
   ],
   "source": [
    "# Test Case \n",
    "[lat, lon] = intersectCircles (37.418436, -121.963477, 0.265710701754, 37.417243, -121.961889, 0.234592423446, 37.418692, -121.960194, 0.0548954278262)"
   ]
  },
  {
   "cell_type": "code",
   "execution_count": 26,
   "id": "polar-dodge",
   "metadata": {},
   "outputs": [
    {
     "name": "stdout",
     "output_type": "stream",
     "text": [
      "48.86691249963017 2.3553379517040205\n"
     ]
    }
   ],
   "source": [
    "[lat, lon] = intersectCircles(LatA, LonA, DistA, LatB, LonB, DistB, LatC, LonC, DistC)"
   ]
  },
  {
   "cell_type": "code",
   "execution_count": 23,
   "id": "driven-switzerland",
   "metadata": {},
   "outputs": [
    {
     "name": "stdout",
     "output_type": "stream",
     "text": [
      "48.86691249963017 2.3553379517040205\n"
     ]
    }
   ],
   "source": [
    "# Trilateration function borrowed from \n",
    "# Stackoverflow \"https://gis.stackexchange.com/questions/66/trilateration-using-3-latitude-longitude-points-and-3-distances\"\n",
    "# using authalic sphere\n",
    "# if using an ellipsoid this step is slightly different\n",
    "# Convert geodetic Lat/Long to ECEF xyz\n",
    "#   1. Convert Lat/Long to radians\n",
    "#   2. Convert Lat/Long(radians) to ECEF\n",
    "xA = earthR *(math.cos(math.radians(LatA)) * math.cos(math.radians(LonA)))\n",
    "yA = earthR *(math.cos(math.radians(LatA)) * math.sin(math.radians(LonA)))\n",
    "zA = earthR *(math.sin(math.radians(LatA)))\n",
    "\n",
    "xB = earthR *(math.cos(math.radians(LatB)) * math.cos(math.radians(LonB)))\n",
    "yB = earthR *(math.cos(math.radians(LatB)) * math.sin(math.radians(LonB)))\n",
    "zB = earthR *(math.sin(math.radians(LatB)))\n",
    "\n",
    "xC = earthR *(math.cos(math.radians(LatC)) * math.cos(math.radians(LonC)))\n",
    "yC = earthR *(math.cos(math.radians(LatC)) * math.sin(math.radians(LonC)))\n",
    "zC = earthR *(math.sin(math.radians(LatC)))\n",
    "\n",
    "P1 = np.array([xA, yA, zA])\n",
    "P2 = np.array([xB, yB, zB])\n",
    "P3 = np.array([xC, yC, zC])\n",
    "\n",
    "#from wikipedia\n",
    "#transform to get circle 1 at origin\n",
    "#transform to get circle 2 on x axis\n",
    "ex = (P2 - P1)/(np.linalg.norm(P2 - P1))\n",
    "i = np.dot(ex, P3 - P1)\n",
    "ey = (P3 - P1 - i*ex)/(np.linalg.norm(P3 - P1 - i*ex))\n",
    "ez = np.cross(ex,ey)\n",
    "d = np.linalg.norm(P2 - P1)\n",
    "j = np.dot(ey, P3 - P1)\n",
    "\n",
    "#from wikipedia\n",
    "#plug and chug using above values\n",
    "x = (pow(DistA,2) - pow(DistB,2) + pow(d,2))/(2*d)\n",
    "y = ((pow(DistA,2) - pow(DistC,2) + pow(i,2) + pow(j,2))/(2*j)) - ((i/j)*x)\n",
    "\n",
    "# only one case shown here\n",
    "z = np.sqrt(pow(DistA,2) - pow(x,2) - pow(y,2))\n",
    "\n",
    "#triPt is an array with ECEF x,y,z of trilateration point\n",
    "triPt = P1 + x*ex + y*ey + z*ez\n",
    "\n",
    "#convert back to lat/long from ECEF\n",
    "#convert to degrees\n",
    "lat = math.degrees(math.asin(triPt[2] / earthR))\n",
    "lon = math.degrees(math.atan2(triPt[1],triPt[0]))\n",
    "\n",
    "print(lat, lon)"
   ]
  }
 ],
 "metadata": {
  "kernelspec": {
   "display_name": "Python 3",
   "language": "python",
   "name": "python3"
  },
  "language_info": {
   "codemirror_mode": {
    "name": "ipython",
    "version": 3
   },
   "file_extension": ".py",
   "mimetype": "text/x-python",
   "name": "python",
   "nbconvert_exporter": "python",
   "pygments_lexer": "ipython3",
   "version": "3.9.1"
  },
  "latex_envs": {
   "LaTeX_envs_menu_present": true,
   "autoclose": false,
   "autocomplete": true,
   "bibliofile": "biblio.bib",
   "cite_by": "apalike",
   "current_citInitial": 1,
   "eqLabelWithNumbers": true,
   "eqNumInitial": 1,
   "hotkeys": {
    "equation": "Ctrl-E",
    "itemize": "Ctrl-I"
   },
   "labels_anchors": false,
   "latex_user_defs": false,
   "report_style_numbering": false,
   "user_envs_cfg": false
  }
 },
 "nbformat": 4,
 "nbformat_minor": 5
}
